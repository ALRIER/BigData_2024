{
  "nbformat": 4,
  "nbformat_minor": 0,
  "metadata": {
    "colab": {
      "provenance": [],
      "authorship_tag": "ABX9TyMS8IMB3wNMVZZ2mcIp8uVW",
      "include_colab_link": true
    },
    "kernelspec": {
      "name": "python3",
      "display_name": "Python 3"
    },
    "language_info": {
      "name": "python"
    }
  },
  "cells": [
    {
      "cell_type": "markdown",
      "metadata": {
        "id": "view-in-github",
        "colab_type": "text"
      },
      "source": [
        "<a href=\"https://colab.research.google.com/github/ALRIER/BigData_2024/blob/main/TallerBigDataNataliaAranda.ipynb\" target=\"_parent\"><img src=\"https://colab.research.google.com/assets/colab-badge.svg\" alt=\"Open In Colab\"/></a>"
      ]
    },
    {
      "cell_type": "markdown",
      "source": [
        "**En Python, crearemos un vector de 100 números aleatorios entre 1 y 100. En R, deberás hacer lo mismo pero con números aleatorios entre -50 y 50. Para ambos vectores, calcularemos la media, mediana, y desviación estándar. Luego, en cada lenguaje, identificaremos cuántos números son mayores que la media y cuántos son menores e imprimiremos estos resultados**"
      ],
      "metadata": {
        "id": "iY9K1RiVLLwZ"
      }
    },
    {
      "cell_type": "markdown",
      "source": [
        "**Phyton**"
      ],
      "metadata": {
        "id": "KqYLZn5BLzIN"
      }
    },
    {
      "cell_type": "code",
      "execution_count": null,
      "metadata": {
        "id": "43veHc5gJutI"
      },
      "outputs": [],
      "source": [
        "import random\n"
      ]
    },
    {
      "cell_type": "code",
      "source": [
        "vector = random.choices(range(1, 101), k=100)\n",
        "print(vector)\n"
      ],
      "metadata": {
        "colab": {
          "base_uri": "https://localhost:8080/"
        },
        "id": "zZe0oA9VKApE",
        "outputId": "ec744764-0627-4e59-9815-12eb07290641"
      },
      "execution_count": null,
      "outputs": [
        {
          "output_type": "stream",
          "name": "stdout",
          "text": [
            "[43, 6, 56, 3, 46, 71, 8, 42, 65, 47, 39, 79, 98, 94, 46, 64, 38, 29, 12, 50, 69, 20, 66, 88, 96, 43, 51, 45, 89, 14, 73, 8, 75, 18, 22, 45, 26, 34, 1, 28, 76, 3, 95, 90, 3, 72, 64, 88, 81, 77, 70, 99, 20, 44, 68, 20, 73, 4, 8, 95, 23, 50, 27, 85, 63, 36, 78, 10, 73, 65, 16, 6, 75, 100, 43, 50, 1, 80, 46, 19, 70, 92, 84, 99, 80, 27, 2, 77, 55, 96, 1, 92, 79, 94, 9, 22, 60, 16, 62, 58]\n"
          ]
        }
      ]
    },
    {
      "cell_type": "code",
      "source": [
        "import random\n",
        "import statistics\n",
        "\n"
      ],
      "metadata": {
        "id": "1GQEOz-lKkLS"
      },
      "execution_count": null,
      "outputs": []
    },
    {
      "cell_type": "code",
      "source": [
        "\n",
        "media = statistics.mean(vector)\n",
        "print(\"Media:\", media)\n",
        "\n",
        "mediana = statistics.median(vector)\n",
        "print(\"Mediana:\", mediana)\n",
        "\n",
        "desviacion_estandar = statistics.stdev(vector)\n",
        "print(\"Desviación Estándar:\", desviacion_estandar)\n"
      ],
      "metadata": {
        "colab": {
          "base_uri": "https://localhost:8080/"
        },
        "id": "7lKQW2WOK_uV",
        "outputId": "452ef134-a76d-4853-d84e-ddecfdf67219"
      },
      "execution_count": null,
      "outputs": [
        {
          "output_type": "stream",
          "name": "stdout",
          "text": [
            "Media: 51.18\n",
            "Mediana: 50.5\n",
            "Desviación Estándar: 30.83726592447796\n"
          ]
        }
      ]
    },
    {
      "cell_type": "code",
      "source": [
        "mayores_que_media = [num for num in vector if num > media]\n",
        "cantidad_mayores = len(mayores_que_media)\n",
        "\n",
        "menores_que_media = [num for num in vector if num < media]\n",
        "cantidad_menores = len(menores_que_media)\n",
        "\n",
        "print(f\"Cantidad de números mayores que la media: {cantidad_mayores}\")\n",
        "print(f\"Cantidad de números menores que la media: {cantidad_menores}\")\n"
      ],
      "metadata": {
        "colab": {
          "base_uri": "https://localhost:8080/"
        },
        "id": "shic-gbjMKgF",
        "outputId": "fdd6aa21-7971-4207-c221-17dc90be21bc"
      },
      "execution_count": null,
      "outputs": [
        {
          "output_type": "stream",
          "name": "stdout",
          "text": [
            "Cantidad de números mayores que la media: 49\n",
            "Cantidad de números menores que la media: 51\n"
          ]
        }
      ]
    },
    {
      "cell_type": "markdown",
      "source": [
        "**R**"
      ],
      "metadata": {
        "id": "3v1mIeIKMeDa"
      }
    },
    {
      "cell_type": "code",
      "source": [
        "!pip install rpy2\n"
      ],
      "metadata": {
        "colab": {
          "base_uri": "https://localhost:8080/"
        },
        "id": "cZZdI-qoMgGY",
        "outputId": "e503cec3-a96c-4c87-ea04-79a5729329d4"
      },
      "execution_count": null,
      "outputs": [
        {
          "output_type": "stream",
          "name": "stdout",
          "text": [
            "Requirement already satisfied: rpy2 in /usr/local/lib/python3.10/dist-packages (3.4.2)\n",
            "Requirement already satisfied: cffi>=1.10.0 in /usr/local/lib/python3.10/dist-packages (from rpy2) (1.17.1)\n",
            "Requirement already satisfied: jinja2 in /usr/local/lib/python3.10/dist-packages (from rpy2) (3.1.4)\n",
            "Requirement already satisfied: pytz in /usr/local/lib/python3.10/dist-packages (from rpy2) (2024.2)\n",
            "Requirement already satisfied: tzlocal in /usr/local/lib/python3.10/dist-packages (from rpy2) (5.2)\n",
            "Requirement already satisfied: pycparser in /usr/local/lib/python3.10/dist-packages (from cffi>=1.10.0->rpy2) (2.22)\n",
            "Requirement already satisfied: MarkupSafe>=2.0 in /usr/local/lib/python3.10/dist-packages (from jinja2->rpy2) (2.1.5)\n"
          ]
        }
      ]
    },
    {
      "cell_type": "code",
      "source": [
        "%load_ext rpy2.ipython"
      ],
      "metadata": {
        "id": "7sV_qnEsOBIm"
      },
      "execution_count": null,
      "outputs": []
    },
    {
      "cell_type": "code",
      "source": [
        "%%R\n",
        "set.seed(123)\n",
        "numeros_aleatorios <- sample(-50:50, 100, replace = TRUE)\n",
        "print(numeros_aleatorios)\n"
      ],
      "metadata": {
        "colab": {
          "base_uri": "https://localhost:8080/"
        },
        "id": "5KiI9cECNdf3",
        "outputId": "62c830c9-8cdc-41b9-cab0-43b734484cae"
      },
      "execution_count": null,
      "outputs": [
        {
          "output_type": "stream",
          "name": "stdout",
          "text": [
            "  [1] -20  28   0 -37  16  -9  -1  -8  50 -37 -26  39  40  18  40   6  41 -42\n",
            " [19]  42  48  21 -25 -44  -9 -42  32 -15  27  30  -8  25 -36 -19 -44 -42 -10\n",
            " [37]  23 -28 -24   9   2 -44   2 -24  45 -13  38 -17  42  18  21  25  12 -38\n",
            " [55]  31  46  40 -26 -13 -30  28 -10  -4  39   9  44 -35  43 -45  21  35  35\n",
            " [73] -12 -20  30  -1 -17 -47 -38  18 -26   1 -29  38 -19 -26  36 -16 -11 -21\n",
            " [91] -39 -20 -21  13  48 -37  42  45  20  16\n"
          ]
        }
      ]
    },
    {
      "cell_type": "code",
      "source": [
        "%%R\n",
        "\n",
        "media <- mean(numeros_aleatorios)\n",
        "mediana <- median(numeros_aleatorios)\n",
        "desviacion_estandar <- sd(numeros_aleatorios)\n",
        "\n",
        "print(paste(\"Media:\", media))\n",
        "print(paste(\"Mediana:\", mediana))\n",
        "print(paste(\"Desviación estándar:\", desviacion_estandar))\n"
      ],
      "metadata": {
        "colab": {
          "base_uri": "https://localhost:8080/"
        },
        "id": "5Ae-rNaZOdYN",
        "outputId": "b272a104-66c6-4f3c-8b75-a8ff12f503fc"
      },
      "execution_count": null,
      "outputs": [
        {
          "output_type": "stream",
          "name": "stdout",
          "text": [
            "[1] \"Media: 1.93\"\n",
            "[1] \"Mediana: -0.5\"\n",
            "[1] \"Desviación estándar: 29.8268589555038\"\n"
          ]
        }
      ]
    },
    {
      "cell_type": "code",
      "source": [
        "%%R\n",
        "mayores_que_media <- sum(numeros_aleatorios > media)\n",
        "print(paste(\"Números mayores que la media:\", mayores_que_media))\n",
        "\n",
        "menores_que_media <- sum(numeros_aleatorios < media)\n",
        "print(paste(\"Números menores que la media:\", menores_que_media))\n"
      ],
      "metadata": {
        "colab": {
          "base_uri": "https://localhost:8080/"
        },
        "id": "bSLwdrd4OxdX",
        "outputId": "0eec1713-dd92-4ed3-aefb-d2972266b5f0"
      },
      "execution_count": null,
      "outputs": [
        {
          "output_type": "stream",
          "name": "stdout",
          "text": [
            "[1] \"Números mayores que la media: 48\"\n",
            "[1] \"Números menores que la media: 52\"\n"
          ]
        }
      ]
    },
    {
      "cell_type": "markdown",
      "source": [
        "**2.Vamos a crear dos vectores de longitud desigual en R, uno representando temperaturas máximas y otro mínimas a lo largo de una semana, con algunos días faltantes en el vector de mínimas. Realizar una suma de ambos vectores para obtener un vector de temperaturas diarias, gestionando el reciclaje de vectores**"
      ],
      "metadata": {
        "id": "ZSIJm2EXQptD"
      }
    },
    {
      "cell_type": "code",
      "source": [
        "%%R\n",
        "\n",
        "temperaturas_max <- c(30, 32, 28, 29, 31, 33, 30)\n",
        "\n",
        "temperaturas_min <- c(18, NA, 16, NA, 15, 19, NA)\n",
        "\n",
        "temperaturas_diarias <- ifelse(is.na(temperaturas_min), temperaturas_max, temperaturas_max + temperaturas_min)\n",
        "\n",
        "temperaturas_diarias\n",
        "\n"
      ],
      "metadata": {
        "colab": {
          "base_uri": "https://localhost:8080/"
        },
        "id": "y_1jQ0_WQpYs",
        "outputId": "a010d4eb-e639-4228-d423-2ed5e892d268"
      },
      "execution_count": null,
      "outputs": [
        {
          "output_type": "stream",
          "name": "stdout",
          "text": [
            "[1] 48 32 44 29 46 52 30\n"
          ]
        }
      ]
    },
    {
      "cell_type": "markdown",
      "source": [
        "**3.1 Generar una matriz 5x5 en R y Python con números aleatorios. En R, reemplazar todos los valores por debajo de la mediana de la matriz por cero y todos los valores por encima de la mediana por uno, simulando una binarización. Luego vamos a utilizar cbind o rbind para agregar valores de ciudades de forma aleatoria a la matriz de R, después guardaremos la matriz en forma de dataframe para finalmente agregar nombres a las columnas del dataframe. (Asignaremos el nombre que querramos, lo importante es el resultado).**\n",
        "\n"
      ],
      "metadata": {
        "id": "hrZlQoFfTOX6"
      }
    },
    {
      "cell_type": "code",
      "source": [
        "%%R\n",
        "matriz <- matrix(runif(25), nrow=5, ncol=5)\n",
        "print(matriz)\n"
      ],
      "metadata": {
        "colab": {
          "base_uri": "https://localhost:8080/"
        },
        "id": "jiYvnjAgTazf",
        "outputId": "f6da51ff-047f-4583-ad4d-3e632e3c704d"
      },
      "execution_count": null,
      "outputs": [
        {
          "output_type": "stream",
          "name": "stdout",
          "text": [
            "          [,1]      [,2]      [,3]       [,4]       [,5]\n",
            "[1,] 0.3694889 0.6900071 0.5211357 0.43943154 0.84272932\n",
            "[2,] 0.9842192 0.6192565 0.6598384 0.31170220 0.23116178\n",
            "[3,] 0.1542023 0.8913941 0.8218055 0.40947495 0.23909996\n",
            "[4,] 0.0910440 0.6729991 0.7862816 0.01046711 0.07669117\n",
            "[5,] 0.1419069 0.7370777 0.9798219 0.18384952 0.24572368\n"
          ]
        }
      ]
    },
    {
      "cell_type": "code",
      "source": [
        "%%R\n",
        "mediana <- median(matriz)\n",
        "\n",
        "matriz_binarizada <- matriz\n",
        "matriz_binarizada[matriz < mediana] <- 0\n",
        "matriz_binarizada[matriz > mediana] <- 1\n",
        "\n",
        "print(\"Matriz binarizada:\")\n",
        "print(matriz_binarizada)"
      ],
      "metadata": {
        "colab": {
          "base_uri": "https://localhost:8080/"
        },
        "id": "Rl9VgBRCUjUB",
        "outputId": "1b7e25d0-f22d-45b7-fbc6-2a36856fdfab"
      },
      "execution_count": null,
      "outputs": [
        {
          "output_type": "stream",
          "name": "stdout",
          "text": [
            "[1] \"Matriz binarizada:\"\n",
            "     [,1] [,2] [,3]      [,4] [,5]\n",
            "[1,]    0    1    1 0.4394315    1\n",
            "[2,]    1    1    1 0.0000000    0\n",
            "[3,]    0    1    1 0.0000000    0\n",
            "[4,]    0    1    1 0.0000000    0\n",
            "[5,]    0    1    1 0.0000000    0\n"
          ]
        }
      ]
    },
    {
      "cell_type": "code",
      "source": [
        "%%R\n",
        "ciudades <- c(\"Nueva York\", \"Tokio\", \"Londres\", \"París\", \"Sídney\")\n",
        "\n",
        "ciudades_aleatorias <- sample(ciudades, 5, replace = TRUE)\n",
        "\n",
        "matriz_con_ciudades <- cbind(Ciudades = ciudades_aleatorias, matriz_binarizada)\n",
        "\n",
        "print(\"Matriz con ciudades:\")\n",
        "print(matriz_con_ciudades)\n"
      ],
      "metadata": {
        "colab": {
          "base_uri": "https://localhost:8080/"
        },
        "id": "4iZaiel2V3EE",
        "outputId": "bbc8bbe7-08df-456c-e170-5630c1f11d67"
      },
      "execution_count": null,
      "outputs": [
        {
          "output_type": "stream",
          "name": "stdout",
          "text": [
            "[1] \"Matriz con ciudades:\"\n",
            "     Ciudades                                        \n",
            "[1,] \"Londres\"    \"0\" \"1\" \"1\" \"0.439431536244228\" \"1\"\n",
            "[2,] \"Nueva York\" \"1\" \"1\" \"1\" \"0\"                 \"0\"\n",
            "[3,] \"Londres\"    \"0\" \"1\" \"1\" \"0\"                 \"0\"\n",
            "[4,] \"Sídney\"     \"0\" \"1\" \"1\" \"0\"                 \"0\"\n",
            "[5,] \"Tokio\"      \"0\" \"1\" \"1\" \"0\"                 \"0\"\n"
          ]
        }
      ]
    },
    {
      "cell_type": "code",
      "source": [
        "%%R\n",
        "df <- as.data.frame(matriz_con_ciudades)\n",
        "\n",
        "print(\"Dataframe con ciudades:\")\n",
        "print(df)\n"
      ],
      "metadata": {
        "colab": {
          "base_uri": "https://localhost:8080/"
        },
        "id": "f3UlPDJ4WcJh",
        "outputId": "7c124fde-3d00-4ff5-9cd0-01524ee627a8"
      },
      "execution_count": null,
      "outputs": [
        {
          "output_type": "stream",
          "name": "stdout",
          "text": [
            "[1] \"Dataframe con ciudades:\"\n",
            "    Ciudades V2 V3 V4                V5 V6\n",
            "1    Londres  0  1  1 0.439431536244228  1\n",
            "2 Nueva York  1  1  1                 0  0\n",
            "3    Londres  0  1  1                 0  0\n",
            "4     Sídney  0  1  1                 0  0\n",
            "5      Tokio  0  1  1                 0  0\n"
          ]
        }
      ]
    },
    {
      "cell_type": "code",
      "source": [
        "%%R\n",
        "colnames(df) <- c(\"Ciudad\", \"A\", \"B\", \"C\", \"D\", \"E\")\n",
        "\n",
        "print(\"Dataframe con nombres de columnas:\")\n",
        "print(df)\n"
      ],
      "metadata": {
        "colab": {
          "base_uri": "https://localhost:8080/"
        },
        "id": "9BOMh1K0Xbq8",
        "outputId": "ed00ae87-8169-4cb2-f1f2-a33a3a973538"
      },
      "execution_count": null,
      "outputs": [
        {
          "output_type": "stream",
          "name": "stdout",
          "text": [
            "[1] \"Dataframe con nombres de columnas:\"\n",
            "      Ciudad A B C                 D E\n",
            "1    Londres 0 1 1 0.439431536244228 1\n",
            "2 Nueva York 1 1 1                 0 0\n",
            "3    Londres 0 1 1                 0 0\n",
            "4     Sídney 0 1 1                 0 0\n",
            "5      Tokio 0 1 1                 0 0\n"
          ]
        }
      ]
    },
    {
      "cell_type": "markdown",
      "source": [
        "**3.2 En python por otro lado, vamos a multiplicar nuestra matriz 5x5 por 2 y luego vamos a constuír un ciclo for que iteres sobre cada valor de la matriz y le agregue un valor de 1 a cada elemento de la misma. Finalmente, insertaremos un ciclo de control de flujo o condicional \"if\" que junto a un ciclo \"for\" recorra cada elemento de la matriz y verifique si el valor es > 10, entonces imprima \"este número es mayor\" y si el número es <= 10, entonces imprima, \"Este número es menor\".**"
      ],
      "metadata": {
        "id": "jFNlZwTHX7Ca"
      }
    },
    {
      "cell_type": "code",
      "source": [
        "import numpy as np\n",
        "matriz = np.random.rand(5, 5)\n",
        "matriz_multiplicada = matriz * 2\n",
        "print(\"Matriz original:\\n\", matriz)\n",
        "print(\"\\nMatriz multiplicada por 2:\\n\", matriz_multiplicada)\n",
        "\n"
      ],
      "metadata": {
        "colab": {
          "base_uri": "https://localhost:8080/"
        },
        "id": "N3kPOuQaZ5n1",
        "outputId": "6a24aec5-c0f7-45cb-c6d1-9e1de15e38ce"
      },
      "execution_count": null,
      "outputs": [
        {
          "output_type": "stream",
          "name": "stdout",
          "text": [
            "Matriz original:\n",
            " [[0.1475278  0.94764525 0.06614258 0.30311198 0.18779986]\n",
            " [0.27142132 0.34640939 0.02901075 0.25272345 0.06011618]\n",
            " [0.77434149 0.4186195  0.19268034 0.77638976 0.83011883]\n",
            " [0.75431045 0.23616762 0.82000787 0.26380398 0.75520204]\n",
            " [0.08950874 0.5850998  0.12621949 0.40632161 0.55503719]]\n",
            "\n",
            "Matriz multiplicada por 2:\n",
            " [[0.2950556  1.89529049 0.13228517 0.60622396 0.37559972]\n",
            " [0.54284264 0.69281878 0.05802151 0.50544691 0.12023237]\n",
            " [1.54868297 0.83723899 0.38536067 1.55277952 1.66023766]\n",
            " [1.5086209  0.47233524 1.64001574 0.52760796 1.51040407]\n",
            " [0.17901749 1.1701996  0.25243897 0.81264322 1.11007439]]\n"
          ]
        }
      ]
    },
    {
      "cell_type": "code",
      "source": [
        "\n",
        "for i in range(matriz.shape[0]):\n",
        "    for j in range(matriz.shape[1]):\n",
        "        matriz[i, j] += 1\n",
        "print(\"Matriz con 1 añadido a cada elemento:\\n\", matriz)\n"
      ],
      "metadata": {
        "colab": {
          "base_uri": "https://localhost:8080/"
        },
        "id": "G7fIwFK0bEl_",
        "outputId": "a5c50c1d-9304-4c58-f576-d3dca33971d0"
      },
      "execution_count": null,
      "outputs": [
        {
          "output_type": "stream",
          "name": "stdout",
          "text": [
            "Matriz con 1 añadido a cada elemento:\n",
            " [[1.1475278  1.94764525 1.06614258 1.30311198 1.18779986]\n",
            " [1.27142132 1.34640939 1.02901075 1.25272345 1.06011618]\n",
            " [1.77434149 1.4186195  1.19268034 1.77638976 1.83011883]\n",
            " [1.75431045 1.23616762 1.82000787 1.26380398 1.75520204]\n",
            " [1.08950874 1.5850998  1.12621949 1.40632161 1.55503719]]\n"
          ]
        }
      ]
    },
    {
      "cell_type": "code",
      "source": [
        "for i in range(matriz.shape[0]):\n",
        "    for j in range(matriz.shape[1]):\n",
        "        if matriz[i, j] > 10:\n",
        "            print(f\"El valor {matriz[i, j]:.2f} en la posición ({i},{j}) es mayor a 10: Este número es mayor\")\n",
        "        else:\n",
        "            print(f\"El valor {matriz[i, j]:.2f} en la posición ({i},{j}) es menor o igual a 10: Este número es menor\")\n"
      ],
      "metadata": {
        "colab": {
          "base_uri": "https://localhost:8080/"
        },
        "id": "bKhjopMB7h6W",
        "outputId": "5178353c-311e-4852-8b87-f8a4c9456c3e"
      },
      "execution_count": null,
      "outputs": [
        {
          "output_type": "stream",
          "name": "stdout",
          "text": [
            "El valor 1.15 en la posición (0,0) es menor o igual a 10: Este número es menor\n",
            "El valor 1.95 en la posición (0,1) es menor o igual a 10: Este número es menor\n",
            "El valor 1.07 en la posición (0,2) es menor o igual a 10: Este número es menor\n",
            "El valor 1.30 en la posición (0,3) es menor o igual a 10: Este número es menor\n",
            "El valor 1.19 en la posición (0,4) es menor o igual a 10: Este número es menor\n",
            "El valor 1.27 en la posición (1,0) es menor o igual a 10: Este número es menor\n",
            "El valor 1.35 en la posición (1,1) es menor o igual a 10: Este número es menor\n",
            "El valor 1.03 en la posición (1,2) es menor o igual a 10: Este número es menor\n",
            "El valor 1.25 en la posición (1,3) es menor o igual a 10: Este número es menor\n",
            "El valor 1.06 en la posición (1,4) es menor o igual a 10: Este número es menor\n",
            "El valor 1.77 en la posición (2,0) es menor o igual a 10: Este número es menor\n",
            "El valor 1.42 en la posición (2,1) es menor o igual a 10: Este número es menor\n",
            "El valor 1.19 en la posición (2,2) es menor o igual a 10: Este número es menor\n",
            "El valor 1.78 en la posición (2,3) es menor o igual a 10: Este número es menor\n",
            "El valor 1.83 en la posición (2,4) es menor o igual a 10: Este número es menor\n",
            "El valor 1.75 en la posición (3,0) es menor o igual a 10: Este número es menor\n",
            "El valor 1.24 en la posición (3,1) es menor o igual a 10: Este número es menor\n",
            "El valor 1.82 en la posición (3,2) es menor o igual a 10: Este número es menor\n",
            "El valor 1.26 en la posición (3,3) es menor o igual a 10: Este número es menor\n",
            "El valor 1.76 en la posición (3,4) es menor o igual a 10: Este número es menor\n",
            "El valor 1.09 en la posición (4,0) es menor o igual a 10: Este número es menor\n",
            "El valor 1.59 en la posición (4,1) es menor o igual a 10: Este número es menor\n",
            "El valor 1.13 en la posición (4,2) es menor o igual a 10: Este número es menor\n",
            "El valor 1.41 en la posición (4,3) es menor o igual a 10: Este número es menor\n",
            "El valor 1.56 en la posición (4,4) es menor o igual a 10: Este número es menor\n"
          ]
        }
      ]
    },
    {
      "cell_type": "markdown",
      "source": [
        "4.Crear una lista en Python y un vector de listas en R que contengan números, cadenas, y otros elementos.\n",
        "\n",
        "Crearemos también una función definida por ti que realice una operación matemática simple. Después, aplicar esta función a cada elemento numérico de la lista/vector y almacenar los resultados en una nueva estructura. Imprimir antes y después de aplicar la función. Ten en cuenta que cada lista y función, tanto en python como en R deben ser diferentes y realizar diferentes operaciones."
      ],
      "metadata": {
        "id": "W7PbCBESiyAV"
      }
    },
    {
      "cell_type": "code",
      "source": [],
      "metadata": {
        "id": "mRIrHVDbi3Ru"
      },
      "execution_count": null,
      "outputs": []
    },
    {
      "cell_type": "code",
      "source": [
        "mi_lista = [5, 10, 15, 20, 25, \"Hola\", True, None]\n",
        "\n",
        "def sumar_diez(x):\n",
        "    if isinstance(x, (int, float)):  # Verifica si es numérico\n",
        "        return x + 10\n",
        "    return x\n",
        "\n",
        "print(\"Lista original:\", mi_lista)\n",
        "\n",
        "resultados = [sumar_diez(elemento) for elemento in mi_lista]\n",
        "\n",
        "print(\"Lista después de aplicar la función:\", resultados)\n",
        "\n"
      ],
      "metadata": {
        "colab": {
          "base_uri": "https://localhost:8080/"
        },
        "id": "rtq2lXWBixqt",
        "outputId": "a389495a-4358-45ae-c485-f0d9aab9154f"
      },
      "execution_count": null,
      "outputs": [
        {
          "output_type": "stream",
          "name": "stdout",
          "text": [
            "Lista original: [5, 10, 15, 20, 25, 'Hola', True, None]\n",
            "Lista después de aplicar la función: [15, 20, 25, 30, 35, 'Hola', 11, None]\n"
          ]
        }
      ]
    },
    {
      "cell_type": "code",
      "source": [
        "%%R\n",
        "mi_lista_r <- list(12, 24, 36, \"Mundo\", FALSE, 42, 58, \"Texto adicional\")\n",
        "\n",
        "sumar_diez <- function(x) {\n",
        "  if (is.numeric(x)) {\n",
        "    return(x + 10)\n",
        "  }\n",
        "  return(x)\n",
        "}\n",
        "\n",
        "\n",
        "dividir_por_dos <- function(x) {\n",
        "  if (is.numeric(x)) {\n",
        "    return(x / 2)\n",
        "  }\n",
        "  return(x)\n",
        "}\n",
        "\n",
        "\n",
        "print(\"Lista original:\")\n",
        "print(mi_lista_r)\n",
        "\n",
        "\n",
        "resultados_suma <- lapply(mi_lista_r, sumar_diez)\n",
        "\n",
        "resultados_division <- lapply(mi_lista_r, dividir_por_dos)\n",
        "\n",
        "print(\"Lista después de aplicar la función de división:\")\n",
        "print(resultados_division)\n",
        "\n"
      ],
      "metadata": {
        "colab": {
          "base_uri": "https://localhost:8080/"
        },
        "id": "dFFjusONi97O",
        "outputId": "ad9cbb59-3916-4c87-e1b8-d8cfa52254cf"
      },
      "execution_count": null,
      "outputs": [
        {
          "output_type": "stream",
          "name": "stdout",
          "text": [
            "[1] \"Lista original:\"\n",
            "[[1]]\n",
            "[1] 12\n",
            "\n",
            "[[2]]\n",
            "[1] 24\n",
            "\n",
            "[[3]]\n",
            "[1] 36\n",
            "\n",
            "[[4]]\n",
            "[1] \"Mundo\"\n",
            "\n",
            "[[5]]\n",
            "[1] FALSE\n",
            "\n",
            "[[6]]\n",
            "[1] 42\n",
            "\n",
            "[[7]]\n",
            "[1] 58\n",
            "\n",
            "[[8]]\n",
            "[1] \"Texto adicional\"\n",
            "\n",
            "[1] \"Lista después de aplicar la función de división:\"\n",
            "[[1]]\n",
            "[1] 6\n",
            "\n",
            "[[2]]\n",
            "[1] 12\n",
            "\n",
            "[[3]]\n",
            "[1] 18\n",
            "\n",
            "[[4]]\n",
            "[1] \"Mundo\"\n",
            "\n",
            "[[5]]\n",
            "[1] FALSE\n",
            "\n",
            "[[6]]\n",
            "[1] 21\n",
            "\n",
            "[[7]]\n",
            "[1] 29\n",
            "\n",
            "[[8]]\n",
            "[1] \"Texto adicional\"\n",
            "\n"
          ]
        }
      ]
    },
    {
      "cell_type": "markdown",
      "source": [
        "5.Crear un diccionario en Python que simule una base de datos de usuarios, donde cada clave es un ID de usuario único y cada valor es otro diccionario con información como nombre, correo electrónico, y una lista de amigos (IDs). Intorduce al menos 100 valores en el diccionario.\n",
        "\n",
        "Implementar 3 funciones para añadir un nuevo usuario, eliminar un usuario, y encontrar amigos en común entre dos usuarios. Imprimir resultados de estas operaciones.\n",
        "\n",
        "Crea un ciclo \"for\" que itere sobre cada elemento del diccionario y extraiga un valor que tu selecciones, puede ser nombres, telefonos o otros valores, después guarda los valores en una nueva variable e imprime los resultados."
      ],
      "metadata": {
        "id": "P0-BwbMGncMm"
      }
    },
    {
      "cell_type": "code",
      "source": [
        "!pip install faker\n"
      ],
      "metadata": {
        "colab": {
          "base_uri": "https://localhost:8080/"
        },
        "id": "kYbNneGiyE_m",
        "outputId": "46bac699-8a45-45e5-c1f2-98e7d8dcc6af"
      },
      "execution_count": null,
      "outputs": [
        {
          "output_type": "stream",
          "name": "stdout",
          "text": [
            "Collecting faker\n",
            "  Downloading Faker-30.1.0-py3-none-any.whl.metadata (15 kB)\n",
            "Requirement already satisfied: python-dateutil>=2.4 in /usr/local/lib/python3.10/dist-packages (from faker) (2.8.2)\n",
            "Requirement already satisfied: typing-extensions in /usr/local/lib/python3.10/dist-packages (from faker) (4.12.2)\n",
            "Requirement already satisfied: six>=1.5 in /usr/local/lib/python3.10/dist-packages (from python-dateutil>=2.4->faker) (1.16.0)\n",
            "Downloading Faker-30.1.0-py3-none-any.whl (1.8 MB)\n",
            "\u001b[2K   \u001b[90m━━━━━━━━━━━━━━━━━━━━━━━━━━━━━━━━━━━━━━━━\u001b[0m \u001b[32m1.8/1.8 MB\u001b[0m \u001b[31m25.2 MB/s\u001b[0m eta \u001b[36m0:00:00\u001b[0m\n",
            "\u001b[?25hInstalling collected packages: faker\n",
            "Successfully installed faker-30.1.0\n"
          ]
        }
      ]
    },
    {
      "cell_type": "code",
      "source": [
        "import random\n",
        "from faker import Faker\n",
        "\n",
        "# Inicializa Faker\n",
        "fake = Faker()\n",
        "\n",
        "# Definir número de usuarios\n",
        "num_users = 100\n",
        "import random\n",
        "from faker import Faker\n",
        "\n",
        "# Inicializa Faker\n",
        "fake = Faker()\n",
        "\n",
        "# Crear diccionario vacío para la base de datos de usuarios\n",
        "users_db = {}\n",
        "\n",
        "# Definir número de usuarios iniciales\n",
        "num_users = 100\n",
        "\n",
        "# Crear base de datos con 100 usuarios\n",
        "for user_id in range(1, num_users + 1):\n",
        "    name = fake.name()\n",
        "    email = fake.email()\n",
        "\n",
        "    # Generar lista de amigos (IDs de amigos)\n",
        "    friends = random.sample(range(1, num_users + 1), random.randint(1, 10))\n",
        "    if user_id in friends:\n",
        "        friends.remove(user_id)\n",
        "\n",
        "    # Añadir usuario al diccionario\n",
        "    users_db[user_id] = {\n",
        "        'name': name,\n",
        "        'email': email,\n",
        "        'friends': friends\n",
        "    }\n",
        "\n",
        "# Función para añadir un nuevo usuario\n",
        "def add_user(user_id, name, email, friends):\n",
        "    if user_id in users_db:\n",
        "        print(f\"El usuario con ID {user_id} ya existe.\")\n",
        "    else:\n",
        "        users_db[user_id] = {\n",
        "            'name': name,\n",
        "            'email': email,\n",
        "            'friends': friends\n",
        "        }\n",
        "        print(f\"Usuario {name} agregado con ID {user_id}.\")\n",
        "\n",
        "# Función para eliminar un usuario\n",
        "def remove_user(user_id):\n",
        "    if user_id in users_db:\n",
        "        del users_db[user_id]\n",
        "        print(f\"Usuario con ID {user_id} eliminado.\")\n",
        "        # Eliminar de las listas de amigos de otros usuarios\n",
        "        for user in users_db.values():\n",
        "            if user_id in user['friends']:\n",
        "                user['friends'].remove(user_id)\n",
        "    else:\n",
        "        print(f\"El usuario con ID {user_id} no existe.\")\n",
        "\n",
        "# Función para encontrar amigos en común entre dos usuarios\n",
        "def common_friends(user_id_1, user_id_2):\n",
        "    if user_id_1 in users_db and user_id_2 in users_db:\n",
        "        friends_1 = set(users_db[user_id_1]['friends'])\n",
        "        friends_2 = set(users_db[user_id_2]['friends'])\n",
        "        common = friends_1.intersection(friends_2)\n",
        "        return list(common)\n",
        "    else:\n",
        "        print(\"Uno o ambos usuarios no existen.\")\n",
        "        return []\n",
        "\n",
        "# Añadir nuevo usuario\n",
        "new_user_id = 101\n",
        "add_user(new_user_id, fake.name(), fake.email(), [2, 5, 8])\n",
        "\n",
        "# Eliminar un usuario\n",
        "remove_user(10)\n",
        "\n",
        "# Encontrar amigos en común entre dos usuarios\n",
        "user_1_id = 1\n",
        "user_2_id = 5\n",
        "common = common_friends(user_1_id, user_2_id)\n",
        "print(f\"Amigos en común entre {user_1_id} y {user_2_id}: {common}\")\n",
        "\n",
        "# Ciclo \"for\" para extraer los nombres de los usuarios y guardarlos en una nueva lista\n",
        "user_names = []\n",
        "for user_id, user_data in users_db.items():\n",
        "    user_names.append(user_data['name'])\n",
        "\n",
        "# Imprimir los nombres de los usuarios\n",
        "print(\"Nombres de los usuarios:\")\n",
        "print(user_names)\n"
      ],
      "metadata": {
        "colab": {
          "base_uri": "https://localhost:8080/"
        },
        "id": "__dreKZpycPS",
        "outputId": "84037a3a-2ff0-4442-97aa-fec6b2bf1a48"
      },
      "execution_count": null,
      "outputs": [
        {
          "output_type": "stream",
          "name": "stdout",
          "text": [
            "Usuario Nathan Sandoval agregado con ID 101.\n",
            "Usuario con ID 10 eliminado.\n",
            "Amigos en común entre 1 y 5: []\n",
            "Nombres de los usuarios:\n",
            "['Craig Graves', 'Jessica Sullivan', 'Michelle Torres', 'David Henderson', 'Mary Parsons', 'Scott Stafford', 'Jacqueline Mason', 'Bruce Marshall', 'Kenneth Bowen', 'Antonio Dalton', 'Veronica Herring', 'Maxwell Strickland', 'Natasha Horne', 'Andrew Adams', 'Jerry Torres', 'Chelsea Tate', 'Sandra Avery', 'Christopher Brown', 'Taylor Reed', 'Stephanie Murillo', 'Ariana Johnson', 'Ashley Conner', 'Michael Jones DVM', 'Pamela Douglas', 'Jerome Sims', 'Cynthia Hernandez', 'Sarah Schmitt', 'Leonard Skinner', 'Ashley Sanford', 'Robin Sanchez', 'David Lowe', 'Jason Hayes', 'Danielle Miller', 'Andrew Harrell', 'Charles Turner', 'Lawrence Hunter', 'Taylor Williams', 'Linda Williams', 'Katherine Lawson', 'Lori Andrews', 'Michael Keller', 'Chad Beard', 'Brandon Greer', 'Michelle Nelson', 'Clayton Shields', 'Justin Ray', 'Morgan Estrada', 'Tyrone Bernard', 'Christopher Lawrence', 'Julie Harris', 'Cynthia Freeman', 'Daniel Santos', 'Brandon Wiggins', 'Kimberly Williams', 'Leslie Martin', 'Kathleen Davidson', 'Jason Manning', 'Richard Green', 'Jodi Riley', 'Jennifer Carpenter', 'Kimberly Hatfield', 'Faith Hampton', 'Joseph Willis', 'Dean Sandoval', 'Jennifer Reyes', 'Steven Molina', 'Matthew Galvan', 'David Conley', 'Terri Frederick', 'Laurie King', 'Kelli Holt', 'James Ingram', 'Wyatt Doyle', 'Jodi Sanders', 'Pamela Wu', 'Shelia Hill', 'Katherine Ferrell', 'Gerald Buchanan', 'Ms. Amanda Cunningham', 'Andrea Short', 'Shelley Myers', 'Kevin Sawyer', 'Natalie Pena', 'Vincent Suarez', 'Jonathon Mccarty', 'Mark Michael', 'Amy Rosales', 'Andrew Anderson', 'Kimberly West', 'Terri Griffin', 'David Ortega', 'Walter Swanson', 'Jennifer Adams', 'Angela Howard', 'Maria Richards', 'Jeffrey Williams', 'Chelsea Grant', 'Tyler Walsh', 'Karen Nolan', 'Nathan Sandoval']\n"
          ]
        }
      ]
    },
    {
      "cell_type": "markdown",
      "source": [
        "**6.Escribir un programa en Python y R que evalúe tres números (a, b, c) y determine si forman una secuencia creciente, decreciente, o son todos iguales. Utilizar operadores relacionales y lógicos para realizar las comparaciones y imprimir un mensaje con cada resultado. Si el conjunto de números es creciente, un mensaje, otro diferente si es decreciente y uno diferente si son iguales**"
      ],
      "metadata": {
        "id": "CYSg4EIyHHZS"
      }
    },
    {
      "cell_type": "code",
      "source": [
        "# Función para evaluar la secuencia de tres números\n",
        "def evaluar_secuencia(a, b, c):\n",
        "    # Verificar si la secuencia es creciente\n",
        "    if a < b and b < c:\n",
        "        print(f\"La secuencia {a}, {b}, {c} es creciente.\")\n",
        "\n",
        "    # Verificar si la secuencia es decreciente\n",
        "    elif a > b and b > c:\n",
        "        print(f\"La secuencia {a}, {b}, {c} es decreciente.\")\n",
        "\n",
        "    # Verificar si todos los números son iguales\n",
        "    elif a == b and b == c:\n",
        "        print(f\"Los tres números {a}, {b}, {c} son iguales.\")\n",
        "\n",
        "    # Caso donde la secuencia no es ni creciente, ni decreciente, ni todos iguales\n",
        "    else:\n",
        "        print(f\"La secuencia {a}, {b}, {c} no es ni creciente ni decreciente.\")\n",
        "\n",
        "# Ejemplo de uso\n",
        "a = float(input(\"Introduce el valor de a: \"))\n",
        "b = float(input(\"Introduce el valor de b: \"))\n",
        "c = float(input(\"Introduce el valor de c: \"))\n",
        "\n",
        "# Llamada a la función y mostrar el resultado\n",
        "evaluar_secuencia(a, b, c)\n"
      ],
      "metadata": {
        "id": "NqkeswsyHHMQ",
        "colab": {
          "base_uri": "https://localhost:8080/"
        },
        "outputId": "e4a9bf29-41aa-494d-f6f5-a7d9eddb9210"
      },
      "execution_count": 28,
      "outputs": [
        {
          "output_type": "stream",
          "name": "stdout",
          "text": [
            "Introduce el valor de a: 4\n",
            "Introduce el valor de b: 5\n",
            "Introduce el valor de c: 7\n",
            "La secuencia 4.0, 5.0, 7.0 es creciente.\n"
          ]
        }
      ]
    },
    {
      "cell_type": "code",
      "source": [
        "# Función para evaluar la secuencia de tres números\n",
        "def evaluar_secuencia(a, b, c):\n",
        "    # Verificar si la secuencia es creciente\n",
        "    if a < b and b < c:\n",
        "        print(f\"La secuencia {a}, {b}, {c} es creciente.\")\n",
        "\n",
        "    # Verificar si la secuencia es decreciente\n",
        "    elif a > b and b > c:\n",
        "        print(f\"La secuencia {a}, {b}, {c} es decreciente.\")\n",
        "\n",
        "    # Verificar si todos los números son iguales\n",
        "    elif a == b and b == c:\n",
        "        print(f\"Los tres números {a}, {b}, {c} son iguales.\")\n",
        "\n",
        "    # Caso donde la secuencia no es ni creciente, ni decreciente, ni todos iguales\n",
        "    else:\n",
        "        print(f\"La secuencia {a}, {b}, {c} no es ni creciente ni decreciente.\")\n",
        "\n",
        "# Ejemplo de uso\n",
        "a = float(input(\"Introduce el valor de a: \"))\n",
        "b = float(input(\"Introduce el valor de b: \"))\n",
        "c = float(input(\"Introduce el valor de c: \"))\n",
        "\n",
        "# Llamada a la función y mostrar el resultado\n",
        "evaluar_secuencia(a, b, c)\n",
        "\n"
      ],
      "metadata": {
        "colab": {
          "base_uri": "https://localhost:8080/"
        },
        "id": "PuHmbatsLLHv",
        "outputId": "06c426e8-d43b-4169-8e6e-0600585c7a15"
      },
      "execution_count": 30,
      "outputs": [
        {
          "output_type": "stream",
          "name": "stdout",
          "text": [
            "Introduce el valor de a: 50\n",
            "Introduce el valor de b: 34\n",
            "Introduce el valor de c: 21\n",
            "La secuencia 50.0, 34.0, 21.0 es decreciente.\n"
          ]
        }
      ]
    },
    {
      "cell_type": "code",
      "source": [
        "%%R\n",
        "# Función para evaluar la secuencia de tres números\n",
        "evaluar_secuencia <- function(a, b, c) {\n",
        "  # Verificar si la secuencia es creciente\n",
        "  if (a < b & b < c) {\n",
        "    print(paste(\"La secuencia\", a, b, c, \"es creciente.\"))\n",
        "  }\n",
        "  # Verificar si la secuencia es decreciente\n",
        "  else if (a > b & b > c) {\n",
        "    print(paste(\"La secuencia\", a, b, c, \"es decreciente.\"))\n",
        "  }\n",
        "  # Verificar si todos los números son iguales\n",
        "  else if (a == b & b == c) {\n",
        "    print(paste(\"Los tres números\", a, b, c, \"son iguales.\"))\n",
        "  }\n",
        "  # Caso donde no es ni creciente, ni decreciente\n",
        "  else {\n",
        "    print(paste(\"La secuencia\", a, b, c, \"no es ni creciente ni decreciente.\"))\n",
        "  }\n",
        "}\n",
        "\n",
        "# Ejemplo de uso\n",
        "a <- as.numeric(readline(prompt = \"Introduce el valor de a: \"))\n",
        "b <- as.numeric(readline(prompt = \"Introduce el valor de b: \"))\n",
        "c <- as.numeric(readline(prompt = \"Introduce el valor de c: \"))\n",
        "\n",
        "# Llamada a la función y mostrar el resultado\n",
        "evaluar_secuencia(a, b, c)\n",
        "\n"
      ],
      "metadata": {
        "colab": {
          "base_uri": "https://localhost:8080/"
        },
        "id": "57gz2g6RK6ye",
        "outputId": "cb24cd60-ca56-42f9-b8d6-f09c3a85ff6e"
      },
      "execution_count": 29,
      "outputs": [
        {
          "output_type": "stream",
          "name": "stdout",
          "text": [
            "Introduce el valor de a: 6\n",
            "Introduce el valor de b: 23\n",
            "Introduce el valor de c: 87\n",
            "[1] \"La secuencia 6 23 87 es creciente.\"\n"
          ]
        }
      ]
    },
    {
      "cell_type": "code",
      "source": [
        "%%R\n",
        "# Función para evaluar la secuencia de tres números\n",
        "evaluar_secuencia <- function(a, b, c) {\n",
        "  # Verificar si la secuencia es creciente\n",
        "  if (a < b & b < c) {\n",
        "    print(paste(\"La secuencia\", a, b, c, \"es creciente.\"))\n",
        "  }\n",
        "  # Verificar si la secuencia es decreciente\n",
        "  else if (a > b & b > c) {\n",
        "    print(paste(\"La secuencia\", a, b, c, \"es decreciente.\"))\n",
        "  }\n",
        "  # Verificar si todos los números son iguales\n",
        "  else if (a == b & b == c) {\n",
        "    print(paste(\"Los tres números\", a, b, c, \"son iguales.\"))\n",
        "  }\n",
        "  # Caso donde no es ni creciente, ni decreciente\n",
        "  else {\n",
        "    print(paste(\"La secuencia\", a, b, c, \"no es ni creciente ni decreciente.\"))\n",
        "  }\n",
        "}\n",
        "\n",
        "# Ejemplo de uso\n",
        "a <- as.numeric(readline(prompt = \"Introduce el valor de a: \"))\n",
        "b <- as.numeric(readline(prompt = \"Introduce el valor de b: \"))\n",
        "c <- as.numeric(readline(prompt = \"Introduce el valor de c: \"))\n",
        "\n",
        "# Llamada a la función y mostrar el resultado\n",
        "evaluar_secuencia(a, b, c)\n"
      ],
      "metadata": {
        "colab": {
          "base_uri": "https://localhost:8080/"
        },
        "id": "R8-ItvZMLUCV",
        "outputId": "4df527ed-31c3-48f0-cc7e-2eb92ec5f5de"
      },
      "execution_count": 31,
      "outputs": [
        {
          "output_type": "stream",
          "name": "stdout",
          "text": [
            "Introduce el valor de a: 54\n",
            "Introduce el valor de b: 32\n",
            "Introduce el valor de c: 2\n",
            "[1] \"La secuencia 54 32 2 es decreciente.\"\n"
          ]
        }
      ]
    },
    {
      "cell_type": "markdown",
      "source": [
        "7.Implementar un script en Python y R que simule el lanzamiento de un dado de 6 caras 100 veces. Almacenar los resultados en una estructura de datos y luego calcular la frecuencia de cada resultado. Utilizar bucles for para iterar sobre las simulaciones y estructuras de control de flujo para gestionar el conteo. Imprimir un resumen de las frecuencias de cada cara del dado.\n",
        "\n",
        "Finalmente, desglosa y entiende el código desarrollado para ser capaz de explicar paso a paso lo que se ha hecho y qué hace cada parte de tu respuesta."
      ],
      "metadata": {
        "id": "D1gLN6QrLbBd"
      }
    },
    {
      "cell_type": "code",
      "source": [
        "import random\n",
        "from collections import Counter\n",
        "\n",
        "# Lista para almacenar los resultados de los lanzamientos\n",
        "resultados = []\n",
        "\n",
        "# Simulación de 100 lanzamientos de un dado de 6 caras\n",
        "for i in range(100):\n",
        "    resultado = random.randint(1, 6)\n",
        "    resultados.append(resultado)\n",
        "\n",
        "# Mostrar los resultados\n",
        "print(resultados)\n",
        "\n",
        "# Analizar la frecuencia de los resultados\n",
        "frecuencias = Counter(resultados)\n",
        "print(frecuencias)\n"
      ],
      "metadata": {
        "colab": {
          "base_uri": "https://localhost:8080/"
        },
        "id": "2Y0w4nPkL5qp",
        "outputId": "abd0016e-e089-4528-a37d-ac1cbfdbde53"
      },
      "execution_count": 32,
      "outputs": [
        {
          "output_type": "stream",
          "name": "stdout",
          "text": [
            "[3, 6, 3, 6, 6, 2, 3, 3, 2, 5, 2, 3, 4, 3, 5, 5, 6, 6, 4, 2, 1, 2, 1, 4, 6, 3, 5, 4, 2, 3, 5, 1, 5, 6, 4, 1, 1, 2, 3, 3, 5, 1, 4, 3, 1, 2, 4, 5, 1, 4, 3, 1, 3, 1, 3, 3, 2, 6, 2, 4, 4, 4, 2, 6, 3, 6, 4, 3, 4, 1, 6, 4, 3, 3, 1, 4, 1, 3, 2, 4, 1, 6, 6, 5, 6, 5, 5, 4, 4, 5, 4, 2, 5, 2, 3, 1, 4, 3, 6, 3]\n",
            "Counter({3: 23, 4: 20, 6: 15, 1: 15, 2: 14, 5: 13})\n"
          ]
        }
      ]
    },
    {
      "cell_type": "code",
      "source": [
        "import random\n",
        "\n",
        "# Inicializar lista para resultados y diccionario para frecuencias\n",
        "resultados = []\n",
        "frecuencia = {1: 0, 2: 0, 3: 0, 4: 0, 5: 0, 6: 0}\n",
        "\n",
        "# Simulación de 100 lanzamientos de un dado de 6 caras\n",
        "for i in range(100):\n",
        "    resultado = random.randint(1, 6)\n",
        "    resultados.append(resultado)\n",
        "\n",
        "# Calcular la frecuencia de cada número\n",
        "for resultado in resultados:\n",
        "    if resultado in frecuencia:\n",
        "        frecuencia[resultado] += 1\n",
        "\n",
        "# Imprimir el resumen de frecuencias\n",
        "print(\"Frecuencia de cada cara del dado:\")\n",
        "for numero, conteo in frecuencia.items():\n",
        "    print(f\"Cara {numero}: {conteo} veces\")\n"
      ],
      "metadata": {
        "colab": {
          "base_uri": "https://localhost:8080/"
        },
        "id": "41HJtbC_MkDY",
        "outputId": "931a09d7-522a-45e7-e1bc-babe1b439b21"
      },
      "execution_count": 33,
      "outputs": [
        {
          "output_type": "stream",
          "name": "stdout",
          "text": [
            "Frecuencia de cada cara del dado:\n",
            "Cara 1: 17 veces\n",
            "Cara 2: 17 veces\n",
            "Cara 3: 15 veces\n",
            "Cara 4: 20 veces\n",
            "Cara 5: 17 veces\n",
            "Cara 6: 14 veces\n"
          ]
        }
      ]
    },
    {
      "cell_type": "code",
      "source": [
        "%%R\n",
        "# Inicializar una lista vacía para almacenar los resultados\n",
        "resultados <- numeric(100)\n",
        "\n",
        "# Inicializar un vector para almacenar la frecuencia de cada cara del dado\n",
        "frecuencia <- numeric(6)\n",
        "\n",
        "# Simulación de 100 lanzamientos de un dado de 6 caras\n",
        "for (i in 1:100) {\n",
        "    # Generar un número aleatorio entre 1 y 6 (simulando un lanzamiento de dado)\n",
        "    lanzamiento <- sample(1:6, 1)\n",
        "\n",
        "    # Almacenar el resultado del lanzamiento en el vector 'resultados'\n",
        "    resultados[i] <- lanzamiento\n",
        "}\n",
        "\n",
        "# Contar la frecuencia de cada cara del dado (del 1 al 6)\n",
        "for (j in 1:6) {\n",
        "    # Contar cuántas veces aparece el número 'j' en los resultados\n",
        "    frecuencia[j] <- sum(resultados == j)\n",
        "}\n",
        "\n",
        "# Imprimir el resumen de frecuencias\n",
        "cat(\"Frecuencia de cada cara del dado:\\n\")\n",
        "for (j in 1:6) {\n",
        "    cat(paste(\"Cara\", j, \":\", frecuencia[j], \"veces\\n\"))\n",
        "}\n",
        "\n"
      ],
      "metadata": {
        "colab": {
          "base_uri": "https://localhost:8080/"
        },
        "id": "6Ac4K6X3ODpF",
        "outputId": "3b0757cf-138b-4238-a10c-0a0019f2ce7b"
      },
      "execution_count": 36,
      "outputs": [
        {
          "output_type": "stream",
          "name": "stdout",
          "text": [
            "Frecuencia de cada cara del dado:\n",
            "Cara 1 : 22 veces\n",
            "Cara 2 : 21 veces\n",
            "Cara 3 : 11 veces\n",
            "Cara 4 : 12 veces\n",
            "Cara 5 : 25 veces\n",
            "Cara 6 : 9 veces\n"
          ]
        }
      ]
    },
    {
      "cell_type": "code",
      "source": [],
      "metadata": {
        "id": "MAc010X-OEyx"
      },
      "execution_count": null,
      "outputs": []
    }
  ]
}